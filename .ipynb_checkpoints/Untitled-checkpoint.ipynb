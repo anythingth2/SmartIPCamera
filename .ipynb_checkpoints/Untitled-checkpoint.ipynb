{
 "cells": [
  {
   "cell_type": "code",
   "execution_count": 6,
   "metadata": {},
   "outputs": [],
   "source": [
    "import cv2\n",
    "from threading import Timer \n",
    "import time\n",
    "from imageai.Detection import ObjectDetection\n",
    "\n",
    "cam = cv2.VideoCapture('./test/traffic.mp4')\n",
    "detector = ObjectDetection()\n",
    "detector.setModelTypeAsTinyYOLOv3()\n",
    "detector.setModelPath(\"./weight/yolo-tiny.h5\")\n",
    "detector.loadModel()"
   ]
  },
  {
   "cell_type": "code",
   "execution_count": 15,
   "metadata": {},
   "outputs": [],
   "source": [
    "def generateFrame(frame):\n",
    "#     _, frame = cam.read()\n",
    "    height,width = frame.shape[:2]\n",
    "    # yield frame\n",
    "    p1 =  height//4, width//4\n",
    "    p2 =  height*3//4, width*3//4\n",
    "    detectArea = frame[p1[0]:p2[0], p1[1]:p2[1]]\n",
    "    print(p1,p2)\n",
    "    detectArea = cv2.rectangle(detectArea,p1,p2,color=(0,255,0),thickness=1)\n",
    "    _, detections = detector.detectObjectsFromImage(input_image=detectArea,input_type='array',output_type='array', minimum_percentage_probability=30,)\n",
    "#     print(detections)\n",
    "    frame[p1[0]:p2[0], p1[1]:p2[1]] = detectArea\n",
    "    return frame"
   ]
  },
  {
   "cell_type": "code",
   "execution_count": 16,
   "metadata": {},
   "outputs": [
    {
     "name": "stdout",
     "output_type": "stream",
     "text": [
      "[{'name': 'car', 'percentage_probability': 34.02654826641083, 'box_points': (93, 116, 122, 144)}, {'name': 'car', 'percentage_probability': 35.846978425979614, 'box_points': (82, 81, 97, 90)}, {'name': 'car', 'percentage_probability': 37.029677629470825, 'box_points': (76, 81, 90, 89)}, {'name': 'car', 'percentage_probability': 43.50474178791046, 'box_points': (43, 120, 112, 169)}, {'name': 'car', 'percentage_probability': 43.926993012428284, 'box_points': (139, 105, 172, 120)}]\n",
      "[{'name': 'car', 'percentage_probability': 37.82266676425934, 'box_points': (81, 81, 97, 90)}, {'name': 'car', 'percentage_probability': 39.94217813014984, 'box_points': (90, 113, 122, 133)}, {'name': 'car', 'percentage_probability': 40.061965584754944, 'box_points': (76, 81, 90, 89)}, {'name': 'car', 'percentage_probability': 46.57041132450104, 'box_points': (137, 104, 172, 121)}, {'name': 'car', 'percentage_probability': 47.507244348526, 'box_points': (208, 102, 240, 120)}, {'name': 'car', 'percentage_probability': 47.743409872055054, 'box_points': (30, 119, 109, 170)}]\n",
      "[{'name': 'car', 'percentage_probability': 35.25358438491821, 'box_points': (82, 81, 97, 90)}, {'name': 'car', 'percentage_probability': 37.18121945858002, 'box_points': (136, 104, 173, 121)}, {'name': 'car', 'percentage_probability': 39.83590304851532, 'box_points': (76, 81, 90, 90)}, {'name': 'car', 'percentage_probability': 47.46083915233612, 'box_points': (207, 102, 240, 120)}]\n",
      "[{'name': 'car', 'percentage_probability': 33.35851430892944, 'box_points': (32, 120, 104, 173)}, {'name': 'car', 'percentage_probability': 37.13386356830597, 'box_points': (82, 81, 97, 90)}, {'name': 'car', 'percentage_probability': 41.299620270729065, 'box_points': (136, 104, 172, 121)}, {'name': 'car', 'percentage_probability': 42.83043146133423, 'box_points': (76, 81, 90, 90)}, {'name': 'car', 'percentage_probability': 49.83108341693878, 'box_points': (207, 102, 240, 121)}]\n",
      "[{'name': 'car', 'percentage_probability': 36.651960015296936, 'box_points': (135, 103, 171, 122)}, {'name': 'car', 'percentage_probability': 39.040783047676086, 'box_points': (82, 81, 97, 90)}, {'name': 'car', 'percentage_probability': 41.26489460468292, 'box_points': (205, 102, 242, 120)}, {'name': 'car', 'percentage_probability': 42.20704734325409, 'box_points': (76, 81, 90, 90)}, {'name': 'car', 'percentage_probability': 47.651028633117676, 'box_points': (32, 119, 103, 172)}]\n",
      "[{'name': 'car', 'percentage_probability': 37.08721399307251, 'box_points': (130, 104, 173, 130)}, {'name': 'car', 'percentage_probability': 39.08478319644928, 'box_points': (76, 81, 90, 90)}, {'name': 'car', 'percentage_probability': 39.292582869529724, 'box_points': (81, 81, 97, 90)}, {'name': 'car', 'percentage_probability': 45.190683007240295, 'box_points': (205, 102, 242, 121)}, {'name': 'car', 'percentage_probability': 66.92733764648438, 'box_points': (29, 122, 104, 171)}]\n",
      "[{'name': 'car', 'percentage_probability': 32.8120619058609, 'box_points': (133, 103, 172, 122)}, {'name': 'car', 'percentage_probability': 34.29942727088928, 'box_points': (81, 81, 97, 90)}, {'name': 'car', 'percentage_probability': 37.0941162109375, 'box_points': (206, 102, 242, 121)}, {'name': 'car', 'percentage_probability': 39.71129059791565, 'box_points': (76, 81, 91, 90)}, {'name': 'car', 'percentage_probability': 78.0704140663147, 'box_points': (30, 122, 102, 171)}]\n",
      "[{'name': 'car', 'percentage_probability': 34.64871048927307, 'box_points': (205, 103, 242, 120)}, {'name': 'car', 'percentage_probability': 35.26581823825836, 'box_points': (81, 81, 97, 90)}, {'name': 'car', 'percentage_probability': 35.87489724159241, 'box_points': (0, 79, 16, 98)}, {'name': 'car', 'percentage_probability': 42.49577224254608, 'box_points': (133, 104, 170, 120)}, {'name': 'car', 'percentage_probability': 45.018112659454346, 'box_points': (76, 81, 91, 90)}, {'name': 'car', 'percentage_probability': 72.48310446739197, 'box_points': (30, 123, 102, 172)}]\n",
      "[{'name': 'car', 'percentage_probability': 32.92303383350372, 'box_points': (76, 81, 91, 90)}, {'name': 'car', 'percentage_probability': 33.069029450416565, 'box_points': (0, 79, 16, 98)}, {'name': 'car', 'percentage_probability': 34.65066850185394, 'box_points': (81, 81, 98, 90)}, {'name': 'car', 'percentage_probability': 35.044193267822266, 'box_points': (133, 104, 171, 120)}, {'name': 'car', 'percentage_probability': 64.55767750740051, 'box_points': (32, 122, 101, 172)}]\n",
      "[{'name': 'car', 'percentage_probability': 32.84377157688141, 'box_points': (81, 81, 97, 90)}, {'name': 'car', 'percentage_probability': 33.243533968925476, 'box_points': (77, 81, 91, 90)}, {'name': 'car', 'percentage_probability': 39.441901445388794, 'box_points': (128, 106, 172, 130)}, {'name': 'car', 'percentage_probability': 65.64290523529053, 'box_points': (19, 124, 97, 173)}]\n",
      "[{'name': 'car', 'percentage_probability': 32.86755979061127, 'box_points': (0, 79, 16, 98)}, {'name': 'car', 'percentage_probability': 34.45073664188385, 'box_points': (128, 107, 172, 128)}, {'name': 'car', 'percentage_probability': 34.57305133342743, 'box_points': (77, 81, 90, 90)}, {'name': 'car', 'percentage_probability': 36.13376021385193, 'box_points': (81, 81, 97, 90)}, {'name': 'car', 'percentage_probability': 37.59119510650635, 'box_points': (220, 92, 255, 106)}, {'name': 'car', 'percentage_probability': 63.83828520774841, 'box_points': (18, 124, 97, 173)}]\n",
      "[{'name': 'car', 'percentage_probability': 31.296223402023315, 'box_points': (76, 81, 90, 90)}, {'name': 'car', 'percentage_probability': 33.858853578567505, 'box_points': (81, 81, 97, 90)}, {'name': 'car', 'percentage_probability': 39.16528522968292, 'box_points': (221, 91, 255, 106)}, {'name': 'car', 'percentage_probability': 41.81848764419556, 'box_points': (127, 107, 173, 129)}, {'name': 'car', 'percentage_probability': 52.989792823791504, 'box_points': (15, 122, 96, 174)}]\n",
      "[{'name': 'car', 'percentage_probability': 31.085509061813354, 'box_points': (76, 81, 90, 90)}, {'name': 'car', 'percentage_probability': 34.65637266635895, 'box_points': (81, 81, 97, 90)}, {'name': 'car', 'percentage_probability': 36.746546626091, 'box_points': (125, 108, 165, 131)}, {'name': 'car', 'percentage_probability': 57.16595649719238, 'box_points': (220, 91, 256, 107)}, {'name': 'car', 'percentage_probability': 66.34687185287476, 'box_points': (15, 123, 97, 174)}]\n",
      "[{'name': 'car', 'percentage_probability': 30.648410320281982, 'box_points': (201, 103, 235, 122)}, {'name': 'car', 'percentage_probability': 32.278892397880554, 'box_points': (76, 81, 90, 90)}, {'name': 'car', 'percentage_probability': 35.934361815452576, 'box_points': (124, 109, 165, 131)}, {'name': 'car', 'percentage_probability': 36.71042323112488, 'box_points': (81, 81, 97, 90)}, {'name': 'car', 'percentage_probability': 50.4921019077301, 'box_points': (220, 90, 256, 106)}, {'name': 'car', 'percentage_probability': 55.68656325340271, 'box_points': (15, 124, 93, 173)}]\n",
      "[{'name': 'car', 'percentage_probability': 33.547672629356384, 'box_points': (76, 81, 90, 90)}, {'name': 'car', 'percentage_probability': 36.92849576473236, 'box_points': (81, 81, 97, 90)}, {'name': 'car', 'percentage_probability': 45.570749044418335, 'box_points': (220, 90, 255, 107)}, {'name': 'car', 'percentage_probability': 52.82742977142334, 'box_points': (124, 109, 164, 131)}, {'name': 'car', 'percentage_probability': 66.66855812072754, 'box_points': (15, 123, 93, 174)}]\n",
      "[{'name': 'car', 'percentage_probability': 31.27332031726837, 'box_points': (260, 80, 277, 97)}, {'name': 'car', 'percentage_probability': 33.62365961074829, 'box_points': (76, 81, 90, 90)}, {'name': 'car', 'percentage_probability': 37.917524576187134, 'box_points': (219, 89, 255, 106)}, {'name': 'car', 'percentage_probability': 41.00821018218994, 'box_points': (81, 81, 98, 90)}, {'name': 'car', 'percentage_probability': 43.87354552745819, 'box_points': (124, 109, 163, 129)}, {'name': 'car', 'percentage_probability': 47.84271419048309, 'box_points': (5, 132, 89, 179)}, {'name': 'car', 'percentage_probability': 53.694260120391846, 'box_points': (200, 103, 236, 122)}]\n",
      "[{'name': 'car', 'percentage_probability': 33.27568769454956, 'box_points': (76, 81, 90, 90)}, {'name': 'car', 'percentage_probability': 40.955859422683716, 'box_points': (81, 81, 98, 90)}, {'name': 'car', 'percentage_probability': 45.80181837081909, 'box_points': (219, 91, 257, 106)}, {'name': 'car', 'percentage_probability': 49.081578850746155, 'box_points': (122, 110, 163, 130)}, {'name': 'car', 'percentage_probability': 58.445703983306885, 'box_points': (7, 132, 84, 179)}, {'name': 'car', 'percentage_probability': 66.01226925849915, 'box_points': (199, 103, 237, 121)}]\n",
      "[{'name': 'car', 'percentage_probability': 30.775919556617737, 'box_points': (76, 81, 90, 90)}, {'name': 'car', 'percentage_probability': 38.762837648391724, 'box_points': (81, 81, 98, 90)}, {'name': 'car', 'percentage_probability': 55.49798607826233, 'box_points': (6, 131, 83, 178)}, {'name': 'car', 'percentage_probability': 60.181885957717896, 'box_points': (199, 103, 237, 121)}, {'name': 'car', 'percentage_probability': 64.8571789264679, 'box_points': (123, 108, 163, 129)}]\n",
      "[{'name': 'car', 'percentage_probability': 30.56436777114868, 'box_points': (76, 81, 90, 90)}, {'name': 'car', 'percentage_probability': 36.934471130371094, 'box_points': (171, 101, 208, 116)}, {'name': 'car', 'percentage_probability': 39.46519196033478, 'box_points': (81, 81, 98, 90)}, {'name': 'car', 'percentage_probability': 57.2712242603302, 'box_points': (198, 103, 238, 121)}, {'name': 'car', 'percentage_probability': 69.95835900306702, 'box_points': (121, 109, 162, 131)}, {'name': 'car', 'percentage_probability': 71.39718532562256, 'box_points': (5, 130, 84, 180)}]\n"
     ]
    },
    {
     "name": "stdout",
     "output_type": "stream",
     "text": [
      "[{'name': 'car', 'percentage_probability': 30.476391315460205, 'box_points': (76, 81, 90, 90)}, {'name': 'car', 'percentage_probability': 38.93325328826904, 'box_points': (81, 81, 98, 90)}, {'name': 'car', 'percentage_probability': 43.367478251457214, 'box_points': (197, 104, 235, 118)}, {'name': 'car', 'percentage_probability': 55.643922090530396, 'box_points': (120, 108, 163, 131)}, {'name': 'car', 'percentage_probability': 63.48679065704346, 'box_points': (4, 130, 82, 179)}]\n",
      "[{'name': 'car', 'percentage_probability': 31.171730160713196, 'box_points': (76, 81, 90, 90)}, {'name': 'car', 'percentage_probability': 39.8654967546463, 'box_points': (81, 81, 98, 90)}, {'name': 'car', 'percentage_probability': 43.89001131057739, 'box_points': (200, 103, 236, 120)}, {'name': 'car', 'percentage_probability': 47.94411063194275, 'box_points': (119, 107, 164, 132)}, {'name': 'car', 'percentage_probability': 69.53294277191162, 'box_points': (3, 132, 80, 180)}]\n",
      "break\n"
     ]
    }
   ],
   "source": [
    "while cam.isOpened():\n",
    "    _, frame = cam.read()\n",
    "    frame = generateFrame(frame)\n",
    "    cv2.imshow('f',frame)\n",
    "    if cv2.waitKey(1) == ord('q'):\n",
    "        cv2.destroyAllWindows()\n",
    "        print('break')\n",
    "        break"
   ]
  },
  {
   "cell_type": "code",
   "execution_count": null,
   "metadata": {},
   "outputs": [],
   "source": []
  },
  {
   "cell_type": "code",
   "execution_count": null,
   "metadata": {},
   "outputs": [],
   "source": []
  },
  {
   "cell_type": "code",
   "execution_count": null,
   "metadata": {},
   "outputs": [],
   "source": []
  }
 ],
 "metadata": {
  "kernelspec": {
   "display_name": "Python 3",
   "language": "python",
   "name": "python3"
  },
  "language_info": {
   "codemirror_mode": {
    "name": "ipython",
    "version": 3
   },
   "file_extension": ".py",
   "mimetype": "text/x-python",
   "name": "python",
   "nbconvert_exporter": "python",
   "pygments_lexer": "ipython3",
   "version": "3.6.2"
  }
 },
 "nbformat": 4,
 "nbformat_minor": 2
}
