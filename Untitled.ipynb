{
 "cells": [
  {
   "cell_type": "code",
   "execution_count": 1,
   "metadata": {},
   "outputs": [
    {
     "name": "stderr",
     "output_type": "stream",
     "text": [
      "c:\\python36\\lib\\site-packages\\h5py\\__init__.py:36: FutureWarning: Conversion of the second argument of issubdtype from `float` to `np.floating` is deprecated. In future, it will be treated as `np.float64 == np.dtype(float).type`.\n",
      "  from ._conv import register_converters as _register_converters\n",
      "Using TensorFlow backend.\n"
     ]
    }
   ],
   "source": [
    "import cv2\n",
    "from threading import Timer \n",
    "import time\n",
    "from imageai.Detection import ObjectDetection\n",
    "\n",
    "cam = cv2.VideoCapture(0)\n"
   ]
  },
  {
   "cell_type": "code",
   "execution_count": 18,
   "metadata": {},
   "outputs": [],
   "source": [
    "def generateFrame(detector,frame):\n",
    "    height,width = frame.shape[:2]\n",
    "    # yield frame\n",
    "    p1 =  height//4, width//4\n",
    "    p2 =  height*3//4, width*3//4\n",
    "    \n",
    "    detectArea = frame[p1[0]:p2[0], p1[1]:p2[1]]\n",
    "    detectArea, detections = detector.detectObjectsFromImage(input_image=detectArea,input_type='array',output_type='array', minimum_percentage_probability=30,)\n",
    "    \n",
    "    persons = list(filter(lambda detection: detection['name'] == 'person' ,detections))\n",
    "    \n",
    "    frame[p1[0]:p2[0], p1[1]:p2[1]] = detectArea\n",
    "    frame = cv2.rectangle(frame,p1[::-1], p2[::-1],color=(0,255,0),thickness=2)\n",
    "    return frame"
   ]
  },
  {
   "cell_type": "code",
   "execution_count": 19,
   "metadata": {},
   "outputs": [
    {
     "name": "stdout",
     "output_type": "stream",
     "text": [
      "break\n"
     ]
    }
   ],
   "source": [
    "while cam.isOpened():\n",
    "    _, frame = cam.read()\n",
    "    frame = generateFrame(v3Detector,frame)\n",
    "    cv2.imshow('f',frame)\n",
    "    if cv2.waitKey(1) == ord('q'):\n",
    "        cv2.destroyAllWindows()\n",
    "        print('break')\n",
    "        break"
   ]
  },
  {
   "cell_type": "code",
   "execution_count": 3,
   "metadata": {},
   "outputs": [],
   "source": [
    "tinyDetector = ObjectDetection()\n",
    "tinyDetector.setModelTypeAsTinyYOLOv3()\n",
    "tinyDetector.setModelPath(\"./weight/yolo-tiny.h5\")\n",
    "tinyDetector.loadModel()\n",
    "\n",
    "v3Detector = ObjectDetection()\n",
    "v3Detector.setModelTypeAsYOLOv3()\n",
    "v3Detector.setModelPath(\"./weight/yolo.h5\")\n",
    "v3Detector.loadModel()"
   ]
  },
  {
   "cell_type": "code",
   "execution_count": 14,
   "metadata": {},
   "outputs": [
    {
     "data": {
      "text/plain": [
       "[0, 2, 4, 6, 8]"
      ]
     },
     "execution_count": 14,
     "metadata": {},
     "output_type": "execute_result"
    }
   ],
   "source": [
    "list(filter( lambda v: v%2==0 ,[ i for i in range(10)]))"
   ]
  },
  {
   "cell_type": "code",
   "execution_count": null,
   "metadata": {},
   "outputs": [],
   "source": [
    "[{'name': 'laptop', 'percentage_probability': 38.676586747169495, 'box_points': (101, 198, 137, 231)}, {'name': 'chair', 'percentage_probability': 56.630104780197144, 'box_points': (267, 159, 315, 190)}, {'name': 'bottle', 'percentage_probability': 40.87732136249542, 'box_points': (297, 177, 304, 195)}, {'name': 'person', 'percentage_probability': 32.74630904197693, 'box_points': (308, 87, 320, 192)}, {'name': 'person', 'percentage_probability': 98.97105097770691, 'box_points': (2, 88, 117, 240)}, {'name': 'person', 'percentage_probability': 99.6724545955658, 'box_points': (198, 108, 280, 238)}, {'name': 'person', 'percentage_probability': 99.95871186256409, 'box_points': (129, 103, 225, 236)}]"
   ]
  }
 ],
 "metadata": {
  "kernelspec": {
   "display_name": "Python 3",
   "language": "python",
   "name": "python3"
  },
  "language_info": {
   "codemirror_mode": {
    "name": "ipython",
    "version": 3
   },
   "file_extension": ".py",
   "mimetype": "text/x-python",
   "name": "python",
   "nbconvert_exporter": "python",
   "pygments_lexer": "ipython3",
   "version": "3.6.2"
  }
 },
 "nbformat": 4,
 "nbformat_minor": 2
}
